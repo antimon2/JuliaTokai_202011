{
 "cells": [
  {
   "cell_type": "code",
   "execution_count": 1,
   "metadata": {
    "ExecuteTime": {
     "end_time": "2020-11-14T09:39:58.388000+09:00",
     "start_time": "2020-11-14T00:39:58.021Z"
    }
   },
   "outputs": [
    {
     "name": "stdout",
     "output_type": "stream",
     "text": [
      "Julia Version 1.5.3\n",
      "Commit 788b2c77c1 (2020-11-09 13:37 UTC)\n",
      "Platform Info:\n",
      "  OS: Linux (x86_64-pc-linux-gnu)\n",
      "  CPU: Intel(R) Core(TM) i7-9750H CPU @ 2.60GHz\n",
      "  WORD_SIZE: 64\n",
      "  LIBM: libopenlibm\n",
      "  LLVM: libLLVM-9.0.1 (ORCJIT, skylake)\n",
      "Environment:\n",
      "  JULIA_NUM_THREADS = 4\n"
     ]
    }
   ],
   "source": [
    "versioninfo()"
   ]
  },
  {
   "cell_type": "markdown",
   "metadata": {},
   "source": [
    "## BitonicSorter"
   ]
  },
  {
   "cell_type": "markdown",
   "metadata": {},
   "source": [
    "ref: \n",
    "\n",
    "+ [Bitonic sorter : Wikipedia(en)](https://en.wikipedia.org/wiki/Bitonic_sorter)\n",
    "+ [バイトニックソート : Wikipedia(ja)](https://ja.wikipedia.org/wiki/%E3%83%90%E3%82%A4%E3%83%88%E3%83%8B%E3%83%83%E3%82%AF%E3%82%BD%E3%83%BC%E3%83%88)"
   ]
  },
  {
   "cell_type": "code",
   "execution_count": 2,
   "metadata": {
    "ExecuteTime": {
     "end_time": "2020-11-14T09:39:59.923000+09:00",
     "start_time": "2020-11-14T00:40:00.721Z"
    }
   },
   "outputs": [
    {
     "data": {
      "text/plain": [
       "Main.BitonicSorter"
      ]
     },
     "execution_count": 2,
     "metadata": {},
     "output_type": "execute_result"
    }
   ],
   "source": [
    "module BitonicSorter\n",
    "\n",
    "using Base.Sort: Algorithm\n",
    "using Base.Order: Ordering, lt\n",
    "\n",
    "export BitonicSort\n",
    "\n",
    "struct BitonicSortAlg <: Algorithm end\n",
    "const BitonicSort = BitonicSortAlg()\n",
    "\n",
    "function Base.sort!(x::AbstractVector, lo::Integer, hi::Integer, ::BitonicSortAlg, o::Ordering)\n",
    "    lo ≥ hi && return x\n",
    "\n",
    "    fullsize::Int = hi - lo\n",
    "    d = sizeof(Int) * 8 - leading_zeros(fullsize - 1)  # == ceil(Int, log(2, fullsize))\n",
    "\n",
    "    for p = 1:d, q = 1:p\n",
    "        _sort_kernel!(x, lo, hi, p, q, o)\n",
    "    end\n",
    "    return x\n",
    "end\n",
    "\n",
    "function _sort_kernel!(x::AbstractVector, lo, hi, p, q, o)\n",
    "    # @assert p ≥ q\n",
    "    fullsize_1 = hi - lo\n",
    "    d = 1 << UInt(p - q)\n",
    "    for s = 0:2d:fullsize_1, ioff = 0:d-1\n",
    "        joff = q == 1 ? (2d - ioff - 1) : ioff + d\n",
    "        i = lo + s + ioff\n",
    "        j = lo + s + joff\n",
    "        if !lt(o, x[i], x[j])\n",
    "            x[i], x[j] = x[j], x[i]\n",
    "        end\n",
    "    end\n",
    "end\n",
    "\n",
    "end # module"
   ]
  },
  {
   "cell_type": "code",
   "execution_count": 3,
   "metadata": {
    "ExecuteTime": {
     "end_time": "2020-11-14T09:40:03.037000+09:00",
     "start_time": "2020-11-14T00:40:03.969Z"
    }
   },
   "outputs": [
    {
     "data": {
      "text/plain": [
       "Main.MTBitonicSorter"
      ]
     },
     "execution_count": 3,
     "metadata": {},
     "output_type": "execute_result"
    }
   ],
   "source": [
    "module MTBitonicSorter\n",
    "\n",
    "using Base.Sort: Algorithm\n",
    "using Base.Order: Ordering, lt\n",
    "using Base.Threads\n",
    "\n",
    "export MTBitonicSort\n",
    "\n",
    "struct MTBitonicSortAlg <: Algorithm end\n",
    "const MTBitonicSort = MTBitonicSortAlg()\n",
    "const PARALLEL_THRESHOLD = 4096\n",
    "const PARALLEL_THRESHOLD_D = 12  # == log(2, PARALLEL_THRESHOLD)\n",
    "\n",
    "function Base.sort!(x::AbstractVector, lo::Integer, hi::Integer, ::MTBitonicSortAlg, o::Ordering)\n",
    "    lo ≥ hi && return x\n",
    "\n",
    "    fullsize_1::Int = hi - lo\n",
    "    d = sizeof(Int) * 8 - leading_zeros(fullsize_1)  # == ceil(Int, log(2, fullsize)\n",
    "\n",
    "    if nthreads() > 2 && fullsize_1 + 1 ≥ PARALLEL_THRESHOLD\n",
    "        # multithreading\n",
    "        for p = 1:d, q = 1:p\n",
    "            if p - q ≥ PARALLEL_THRESHOLD_D\n",
    "                bsz = 1 << UInt(p - q + 1)\n",
    "                # @threads for off = lo:bsz:hi-1, boff = 0:PARALLEL_THRESHOLD:((bsz>>0x01)-1)\n",
    "                @threads for (off, boff) in [(off, boff) for boff = 0:PARALLEL_THRESHOLD:((bsz>>0x01)-1), off = lo:bsz:hi-1]\n",
    "                    _sort_kernel!(x, off, off + PARALLEL_THRESHOLD - 1, p, q, o, boff)\n",
    "                end\n",
    "            else\n",
    "                @threads for off = lo:PARALLEL_THRESHOLD:hi-1\n",
    "                    _sort_kernel!(x, off, off + PARALLEL_THRESHOLD - 1, p, q, o)\n",
    "                end\n",
    "            end\n",
    "        end\n",
    "    else\n",
    "        # single threading\n",
    "        for p = 1:d, q = 1:p\n",
    "            _sort_kernel!(x, lo, hi, p, q, o)\n",
    "        end\n",
    "    end\n",
    "    return x\n",
    "end\n",
    "\n",
    "function _sort_kernel!(x::AbstractVector, lo, hi, p, q, o, boff=0)\n",
    "    # @assert p ≥ q\n",
    "    fullsize_1 = hi - lo\n",
    "    d = 1 << UInt(p - q)\n",
    "    sz_1 = min(d - 1, fullsize_1)\n",
    "    for s = 0:2d:fullsize_1, ioff = boff:boff+sz_1\n",
    "        joff = q == 1 ? (2d - ioff - 1) : ioff + d\n",
    "        i = lo + s + ioff\n",
    "        j = lo + s + joff\n",
    "        if !lt(o, x[i], x[j])\n",
    "            x[i], x[j] = x[j], x[i]\n",
    "        end\n",
    "    end\n",
    "end\n",
    "\n",
    "end # module"
   ]
  },
  {
   "cell_type": "code",
   "execution_count": 4,
   "metadata": {
    "ExecuteTime": {
     "end_time": "2020-11-14T09:40:04.880000+09:00",
     "start_time": "2020-11-14T00:40:06.076Z"
    }
   },
   "outputs": [],
   "source": [
    "using .BitonicSorter"
   ]
  },
  {
   "cell_type": "code",
   "execution_count": 5,
   "metadata": {
    "ExecuteTime": {
     "end_time": "2020-11-14T09:40:05.831000+09:00",
     "start_time": "2020-11-14T00:40:07.027Z"
    }
   },
   "outputs": [],
   "source": [
    "using .MTBitonicSorter"
   ]
  },
  {
   "cell_type": "code",
   "execution_count": 6,
   "metadata": {
    "ExecuteTime": {
     "end_time": "2020-11-14T09:40:07.588000+09:00",
     "start_time": "2020-11-14T00:40:08.069Z"
    }
   },
   "outputs": [
    {
     "data": {
      "text/plain": [
       "8-element Array{Int64,1}:\n",
       "  10\n",
       "  30\n",
       "  11\n",
       "  20\n",
       "   4\n",
       " 330\n",
       "  21\n",
       " 110"
      ]
     },
     "execution_count": 6,
     "metadata": {},
     "output_type": "execute_result"
    }
   ],
   "source": [
    "x = [10, 30, 11, 20, 4, 330, 21, 110]"
   ]
  },
  {
   "cell_type": "code",
   "execution_count": 7,
   "metadata": {
    "ExecuteTime": {
     "end_time": "2020-11-14T09:40:08.972000+09:00",
     "start_time": "2020-11-14T00:40:10.150Z"
    }
   },
   "outputs": [
    {
     "data": {
      "text/plain": [
       "8-element Array{Int64,1}:\n",
       "   4\n",
       "  10\n",
       "  11\n",
       "  20\n",
       "  21\n",
       "  30\n",
       " 110\n",
       " 330"
      ]
     },
     "execution_count": 7,
     "metadata": {},
     "output_type": "execute_result"
    }
   ],
   "source": [
    "sort(x)"
   ]
  },
  {
   "cell_type": "code",
   "execution_count": 8,
   "metadata": {
    "ExecuteTime": {
     "end_time": "2020-11-14T09:40:10.371000+09:00",
     "start_time": "2020-11-14T00:40:11.468Z"
    }
   },
   "outputs": [
    {
     "data": {
      "text/plain": [
       "8-element Array{Int64,1}:\n",
       "   4\n",
       "  10\n",
       "  11\n",
       "  20\n",
       "  21\n",
       "  30\n",
       " 110\n",
       " 330"
      ]
     },
     "execution_count": 8,
     "metadata": {},
     "output_type": "execute_result"
    }
   ],
   "source": [
    "sort(x; alg=BitonicSort)"
   ]
  },
  {
   "cell_type": "code",
   "execution_count": 9,
   "metadata": {
    "ExecuteTime": {
     "end_time": "2020-11-14T09:40:18.452000+09:00",
     "start_time": "2020-11-14T00:40:19.479Z"
    }
   },
   "outputs": [
    {
     "data": {
      "text/plain": [
       "8-element Array{Int64,1}:\n",
       "   4\n",
       "  10\n",
       "  11\n",
       "  20\n",
       "  21\n",
       "  30\n",
       " 110\n",
       " 330"
      ]
     },
     "execution_count": 9,
     "metadata": {},
     "output_type": "execute_result"
    }
   ],
   "source": [
    "sort(x; alg=MTBitonicSort)"
   ]
  },
  {
   "cell_type": "markdown",
   "metadata": {},
   "source": [
    "### Benchmark"
   ]
  },
  {
   "cell_type": "code",
   "execution_count": 10,
   "metadata": {
    "ExecuteTime": {
     "end_time": "2020-11-14T09:41:00.925000+09:00",
     "start_time": "2020-11-14T00:41:02.101Z"
    }
   },
   "outputs": [],
   "source": [
    "using BenchmarkTools"
   ]
  },
  {
   "cell_type": "code",
   "execution_count": 11,
   "metadata": {
    "ExecuteTime": {
     "end_time": "2020-11-14T09:41:43.387000+09:00",
     "start_time": "2020-11-14T00:41:32.890Z"
    }
   },
   "outputs": [
    {
     "data": {
      "text/plain": [
       "BenchmarkTools.Trial: \n",
       "  memory estimate:  0 bytes\n",
       "  allocs estimate:  0\n",
       "  --------------\n",
       "  minimum time:     2.887 ms (0.00% GC)\n",
       "  median time:      3.042 ms (0.00% GC)\n",
       "  mean time:        3.051 ms (0.00% GC)\n",
       "  maximum time:     4.414 ms (0.00% GC)\n",
       "  --------------\n",
       "  samples:          1607\n",
       "  evals/sample:     1"
      ]
     },
     "execution_count": 11,
     "metadata": {},
     "output_type": "execute_result"
    }
   ],
   "source": [
    "@benchmark sort!(x) setup=(x=rand(Float64, 2^16))"
   ]
  },
  {
   "cell_type": "code",
   "execution_count": 12,
   "metadata": {
    "ExecuteTime": {
     "end_time": "2020-11-14T09:42:12.776000+09:00",
     "start_time": "2020-11-14T00:42:03.228Z"
    }
   },
   "outputs": [
    {
     "data": {
      "text/plain": [
       "BenchmarkTools.Trial: \n",
       "  memory estimate:  0 bytes\n",
       "  allocs estimate:  0\n",
       "  --------------\n",
       "  minimum time:     11.832 ms (0.00% GC)\n",
       "  median time:      12.349 ms (0.00% GC)\n",
       "  mean time:        12.380 ms (0.00% GC)\n",
       "  maximum time:     14.479 ms (0.00% GC)\n",
       "  --------------\n",
       "  samples:          402\n",
       "  evals/sample:     1"
      ]
     },
     "execution_count": 12,
     "metadata": {},
     "output_type": "execute_result"
    }
   ],
   "source": [
    "@benchmark sort!(x; alg=BitonicSort) setup=(x=rand(Float64, 2^16))"
   ]
  },
  {
   "cell_type": "code",
   "execution_count": 13,
   "metadata": {
    "ExecuteTime": {
     "end_time": "2020-11-14T09:42:12.776000+09:00",
     "start_time": "2020-11-14T00:42:03.228Z"
    }
   },
   "outputs": [
    {
     "data": {
      "text/plain": [
       "BenchmarkTools.Trial: \n",
       "  memory estimate:  412.19 KiB\n",
       "  allocs estimate:  2872\n",
       "  --------------\n",
       "  minimum time:     3.348 ms (0.00% GC)\n",
       "  median time:      3.459 ms (0.00% GC)\n",
       "  mean time:        3.621 ms (0.68% GC)\n",
       "  maximum time:     6.591 ms (20.88% GC)\n",
       "  --------------\n",
       "  samples:          1359\n",
       "  evals/sample:     1"
      ]
     },
     "execution_count": 13,
     "metadata": {},
     "output_type": "execute_result"
    }
   ],
   "source": [
    "@benchmark sort!(x; alg=MTBitonicSort) setup=(x=rand(Float64, 2^16))"
   ]
  },
  {
   "cell_type": "code",
   "execution_count": 14,
   "metadata": {
    "ExecuteTime": {
     "end_time": "2020-11-14T09:42:52.949000+09:00",
     "start_time": "2020-11-14T00:42:39.970Z"
    }
   },
   "outputs": [
    {
     "data": {
      "text/plain": [
       "BenchmarkTools.Trial: \n",
       "  memory estimate:  0 bytes\n",
       "  allocs estimate:  0\n",
       "  --------------\n",
       "  minimum time:     1.193 s (0.00% GC)\n",
       "  median time:      1.195 s (0.00% GC)\n",
       "  mean time:        1.199 s (0.00% GC)\n",
       "  maximum time:     1.215 s (0.00% GC)\n",
       "  --------------\n",
       "  samples:          4\n",
       "  evals/sample:     1"
      ]
     },
     "execution_count": 14,
     "metadata": {},
     "output_type": "execute_result"
    }
   ],
   "source": [
    "@benchmark sort!(x) setup=(x=rand(Float64, 2^24))"
   ]
  },
  {
   "cell_type": "code",
   "execution_count": 15,
   "metadata": {
    "ExecuteTime": {
     "end_time": "2020-11-14T09:43:20.434000+09:00",
     "start_time": "2020-11-14T00:42:39.972Z"
    }
   },
   "outputs": [
    {
     "data": {
      "text/plain": [
       "BenchmarkTools.Trial: \n",
       "  memory estimate:  0 bytes\n",
       "  allocs estimate:  0\n",
       "  --------------\n",
       "  minimum time:     6.633 s (0.00% GC)\n",
       "  median time:      6.633 s (0.00% GC)\n",
       "  mean time:        6.633 s (0.00% GC)\n",
       "  maximum time:     6.633 s (0.00% GC)\n",
       "  --------------\n",
       "  samples:          1\n",
       "  evals/sample:     1"
      ]
     },
     "execution_count": 15,
     "metadata": {},
     "output_type": "execute_result"
    }
   ],
   "source": [
    "@benchmark sort!(x; alg=BitonicSort) setup=(x=rand(Float64, 2^24))"
   ]
  },
  {
   "cell_type": "code",
   "execution_count": 16,
   "metadata": {
    "ExecuteTime": {
     "end_time": "2020-11-14T09:43:39.759000+09:00",
     "start_time": "2020-11-14T00:42:39.973Z"
    }
   },
   "outputs": [
    {
     "data": {
      "text/plain": [
       "BenchmarkTools.Trial: \n",
       "  memory estimate:  3.34 MiB\n",
       "  allocs estimate:  6903\n",
       "  --------------\n",
       "  minimum time:     2.384 s (0.00% GC)\n",
       "  median time:      2.397 s (0.00% GC)\n",
       "  mean time:        2.395 s (0.01% GC)\n",
       "  maximum time:     2.405 s (0.02% GC)\n",
       "  --------------\n",
       "  samples:          3\n",
       "  evals/sample:     1"
      ]
     },
     "execution_count": 16,
     "metadata": {},
     "output_type": "execute_result"
    }
   ],
   "source": [
    "@benchmark sort!(x; alg=MTBitonicSort) setup=(x=rand(Float64, 2^24))"
   ]
  },
  {
   "cell_type": "code",
   "execution_count": null,
   "metadata": {},
   "outputs": [],
   "source": []
  }
 ],
 "metadata": {
  "kernelspec": {
   "display_name": "Julia (4 threads) 1.5.3",
   "language": "julia",
   "name": "julia-(4-threads)-1.5"
  },
  "language_info": {
   "file_extension": ".jl",
   "mimetype": "application/julia",
   "name": "julia",
   "version": "1.5.3"
  }
 },
 "nbformat": 4,
 "nbformat_minor": 2
}
