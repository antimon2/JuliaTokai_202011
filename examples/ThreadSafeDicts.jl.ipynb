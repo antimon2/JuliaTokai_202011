{
 "cells": [
  {
   "cell_type": "code",
   "execution_count": 1,
   "metadata": {
    "ExecuteTime": {
     "end_time": "2020-11-14T08:37:08.496000+09:00",
     "start_time": "2020-11-13T23:37:08.126Z"
    }
   },
   "outputs": [
    {
     "name": "stdout",
     "output_type": "stream",
     "text": [
      "Julia Version 1.5.3\n",
      "Commit 788b2c77c1 (2020-11-09 13:37 UTC)\n",
      "Platform Info:\n",
      "  OS: Linux (x86_64-pc-linux-gnu)\n",
      "  CPU: Intel(R) Core(TM) i7-9750H CPU @ 2.60GHz\n",
      "  WORD_SIZE: 64\n",
      "  LIBM: libopenlibm\n",
      "  LLVM: libLLVM-9.0.1 (ORCJIT, skylake)\n",
      "Environment:\n",
      "  JULIA_NUM_THREADS = 4\n"
     ]
    }
   ],
   "source": [
    "versioninfo()"
   ]
  },
  {
   "cell_type": "code",
   "execution_count": 2,
   "metadata": {
    "ExecuteTime": {
     "end_time": "2020-11-14T08:37:08.541000+09:00",
     "start_time": "2020-11-13T23:37:08.128Z"
    }
   },
   "outputs": [],
   "source": [
    "using Base.Threads\n",
    "using Base: AbstractLock, Callable"
   ]
  },
  {
   "cell_type": "code",
   "execution_count": 3,
   "metadata": {
    "ExecuteTime": {
     "end_time": "2020-11-14T08:37:08.545000+09:00",
     "start_time": "2020-11-13T23:37:08.129Z"
    }
   },
   "outputs": [],
   "source": [
    "mutable struct ThreadSafeDict{K,V,L<:AbstractLock} <: AbstractDict{K,V}\n",
    "    dict::Dict{K,V}\n",
    "    lock::L\n",
    "    ThreadSafeDict{K,V}() where {K,V} = \n",
    "        new{K,V,ReentrantLock}(Dict{K,V}(), ReentrantLock())\n",
    "    ThreadSafeDict{K,V,L}() where {K,V,L<:AbstractLock} = \n",
    "        new{K,V,L}(Dict{K,V}(), L())\n",
    "end"
   ]
  },
  {
   "cell_type": "code",
   "execution_count": 4,
   "metadata": {
    "ExecuteTime": {
     "end_time": "2020-11-14T08:37:08.547000+09:00",
     "start_time": "2020-11-13T23:37:08.131Z"
    }
   },
   "outputs": [],
   "source": [
    "Base.iterate(d::ThreadSafeDict, state...) = iterate(d.dict, state...)\n",
    "Base.length(d::ThreadSafeDict) = length(d.dict)\n",
    "Base.isempty(d::ThreadSafeDict) = isempty(d.dict)"
   ]
  },
  {
   "cell_type": "code",
   "execution_count": 5,
   "metadata": {
    "ExecuteTime": {
     "end_time": "2020-11-14T08:37:08.548000+09:00",
     "start_time": "2020-11-13T23:37:08.133Z"
    }
   },
   "outputs": [],
   "source": [
    "function Base.sizehint!(d::ThreadSafeDict, n::Integer)\n",
    "    lock(d.lock) do\n",
    "        sizehint!(d.dict, n)\n",
    "    end\n",
    "    return d\n",
    "end"
   ]
  },
  {
   "cell_type": "code",
   "execution_count": 6,
   "metadata": {
    "ExecuteTime": {
     "end_time": "2020-11-14T08:37:08.549000+09:00",
     "start_time": "2020-11-13T23:37:08.135Z"
    }
   },
   "outputs": [],
   "source": [
    "_unsafe_haskey(d::ThreadSafeDict, key) = haskey(d.dict, key)\n",
    "function Base.haskey(d::ThreadSafeDict, key)\n",
    "    lock(d.lock) do\n",
    "        _unsafe_haskey(d, key)\n",
    "    end\n",
    "end"
   ]
  },
  {
   "cell_type": "code",
   "execution_count": 7,
   "metadata": {
    "ExecuteTime": {
     "end_time": "2020-11-14T08:37:08.552000+09:00",
     "start_time": "2020-11-13T23:37:08.136Z"
    }
   },
   "outputs": [],
   "source": [
    "function Base.get(d::ThreadSafeDict, key, default)\n",
    "    lock(d.lock) do\n",
    "        if _unsafe_haskey(d, key)\n",
    "            _unsafe_getindex(d, key)\n",
    "        else\n",
    "            default\n",
    "        end\n",
    "    end\n",
    "end\n",
    "\n",
    "function Base.get(default::Base.Callable, d::ThreadSafeDict, key)\n",
    "    lock(d.lock) do\n",
    "        if _unsafe_haskey(d, key)\n",
    "            _unsafe_getindex(d, key)\n",
    "        else\n",
    "            default()\n",
    "        end\n",
    "    end\n",
    "end"
   ]
  },
  {
   "cell_type": "code",
   "execution_count": 8,
   "metadata": {
    "ExecuteTime": {
     "end_time": "2020-11-14T08:37:08.554000+09:00",
     "start_time": "2020-11-13T23:37:08.138Z"
    }
   },
   "outputs": [],
   "source": [
    "function Base.get!(d::ThreadSafeDict, key, default)\n",
    "    lock(d.lock) do\n",
    "        if _unsafe_haskey(d, key)\n",
    "            _unsafe_getindex(d, key)\n",
    "        else\n",
    "            v = default\n",
    "            _unsafe_addindex!(d, v, key)\n",
    "            v\n",
    "        end\n",
    "    end\n",
    "end\n",
    "\n",
    "function Base.get!(default::Callable, d::ThreadSafeDict, key)\n",
    "    lock(d.lock) do\n",
    "        if _unsafe_haskey(d, key)\n",
    "            _unsafe_getindex(d, key)\n",
    "        else\n",
    "            v = default()\n",
    "            _unsafe_addindex!(d, v, key)\n",
    "            v\n",
    "        end\n",
    "    end\n",
    "end"
   ]
  },
  {
   "cell_type": "code",
   "execution_count": 9,
   "metadata": {
    "ExecuteTime": {
     "end_time": "2020-11-14T08:37:08.556000+09:00",
     "start_time": "2020-11-13T23:37:08.140Z"
    }
   },
   "outputs": [],
   "source": [
    "_unsafe_getindex(d::ThreadSafeDict, key) = d.dict[key]\n",
    "function Base.getindex(d::ThreadSafeDict, key)\n",
    "    lock(d.lock) do\n",
    "        if _unsafe_haskey(d, key)\n",
    "            _unsafe_getindex(d, key)\n",
    "        else\n",
    "            throw(KeyError(key))\n",
    "        end\n",
    "    end\n",
    "end"
   ]
  },
  {
   "cell_type": "code",
   "execution_count": 10,
   "metadata": {
    "ExecuteTime": {
     "end_time": "2020-11-14T08:37:08.557000+09:00",
     "start_time": "2020-11-13T23:37:08.142Z"
    }
   },
   "outputs": [],
   "source": [
    "function _unsafe_addindex!(d::ThreadSafeDict, v, key)\n",
    "    d.dict[key] = v\n",
    "end\n",
    "function Base.setindex!(d::ThreadSafeDict, v, key)\n",
    "    lock(d.lock) do\n",
    "        _unsafe_addindex!(d, v, key)\n",
    "    end\n",
    "    d\n",
    "end"
   ]
  },
  {
   "cell_type": "code",
   "execution_count": 11,
   "metadata": {
    "ExecuteTime": {
     "end_time": "2020-11-14T08:37:08.559000+09:00",
     "start_time": "2020-11-13T23:37:08.143Z"
    }
   },
   "outputs": [],
   "source": [
    "function Base.delete!(d::ThreadSafeDict, key)\n",
    "    lock(d.lock) do\n",
    "        delete!(d.dict, key)\n",
    "    end\n",
    "    d\n",
    "end\n",
    "function Base.pop!(d::ThreadSafeDict, key)\n",
    "    lock(d.lock) do\n",
    "        pop!(d.dict, key)\n",
    "    end\n",
    "end"
   ]
  },
  {
   "cell_type": "code",
   "execution_count": 12,
   "metadata": {
    "ExecuteTime": {
     "end_time": "2020-11-14T08:37:08.560000+09:00",
     "start_time": "2020-11-13T23:37:08.146Z"
    }
   },
   "outputs": [],
   "source": [
    "function Base.empty!(d::ThreadSafeDict)\n",
    "    lock(d.lock) do\n",
    "        empty!(d.dict)\n",
    "    end\n",
    "    d\n",
    "end"
   ]
  },
  {
   "cell_type": "markdown",
   "metadata": {},
   "source": [
    "### 実験"
   ]
  },
  {
   "cell_type": "code",
   "execution_count": 13,
   "metadata": {
    "ExecuteTime": {
     "end_time": "2020-11-14T08:37:09.473000+09:00",
     "start_time": "2020-11-13T23:37:08.148Z"
    }
   },
   "outputs": [
    {
     "data": {
      "text/plain": [
       "10-element Array{Int64,1}:\n",
       "  8\n",
       "  9\n",
       "  4\n",
       "  7\n",
       " 10\n",
       "  6\n",
       "  3\n",
       "  1\n",
       "  5\n",
       "  2"
      ]
     },
     "execution_count": 13,
     "metadata": {},
     "output_type": "execute_result"
    }
   ],
   "source": [
    "using Random\n",
    "p = randperm(10)"
   ]
  },
  {
   "cell_type": "code",
   "execution_count": 14,
   "metadata": {
    "ExecuteTime": {
     "end_time": "2020-11-14T08:37:09.692000+09:00",
     "start_time": "2020-11-13T23:37:08.150Z"
    }
   },
   "outputs": [
    {
     "data": {
      "text/plain": [
       "f! (generic function with 1 method)"
      ]
     },
     "execution_count": 14,
     "metadata": {},
     "output_type": "execute_result"
    }
   ],
   "source": [
    "f!(d, n) = get!(d, n) do\n",
    "    println(\"recursive $(n)->$(n-1) (threadid: $(threadid()))\")\n",
    "    v, _i = f!(d, n-1)\n",
    "    (v + 1, threadid())\n",
    "end"
   ]
  },
  {
   "cell_type": "markdown",
   "metadata": {},
   "source": [
    "#### Thread-Unsafe"
   ]
  },
  {
   "cell_type": "code",
   "execution_count": 15,
   "metadata": {
    "ExecuteTime": {
     "end_time": "2020-11-14T08:37:10.247000+09:00",
     "start_time": "2020-11-13T23:37:08.153Z"
    }
   },
   "outputs": [
    {
     "data": {
      "text/plain": [
       "Dict{Int64,Tuple{Int64,Int64}}()"
      ]
     },
     "execution_count": 15,
     "metadata": {},
     "output_type": "execute_result"
    }
   ],
   "source": [
    "d0 = Dict{Int,Tuple{Int,Int}}()"
   ]
  },
  {
   "cell_type": "code",
   "execution_count": 16,
   "metadata": {
    "ExecuteTime": {
     "end_time": "2020-11-14T08:37:10.454000+09:00",
     "start_time": "2020-11-13T23:37:08.154Z"
    }
   },
   "outputs": [
    {
     "data": {
      "text/plain": [
       "(1, 1)"
      ]
     },
     "execution_count": 16,
     "metadata": {},
     "output_type": "execute_result"
    }
   ],
   "source": [
    "d0[1] = (1, 1)"
   ]
  },
  {
   "cell_type": "code",
   "execution_count": 17,
   "metadata": {
    "ExecuteTime": {
     "end_time": "2020-11-14T08:37:10.538000+09:00",
     "start_time": "2020-11-13T23:37:08.156Z"
    }
   },
   "outputs": [
    {
     "name": "stdout",
     "output_type": "stream",
     "text": [
      "recursive 7->6 (threadid: 2)\n",
      "recursive 5->4 (threadid: 4)\n",
      "recursive 8->7 (threadid: 1)\n",
      "recursive 4->3 (threadid: 4)\n",
      "recursive 3->2 (threadid: 3)\n",
      "recursive 6->5 (threadid: 2)\n",
      "recursive 3->2 (threadid: 4)\n",
      "recursive 5->4 (threadid: 2)\n",
      "recursive 2->1 (threadid: 4)\n",
      "recursive 7->6 (threadid: 1)\n",
      "recursive 4->3 (threadid: 2)\n",
      "recursive 10->9 (threadid: 2)\n",
      "recursive 2->1 (threadid: 3)\n",
      "recursive 9->8 (threadid: 2)\n",
      "recursive 6->5 (threadid: 1)\n",
      "recursive 8->7 (threadid: 2)\n",
      "recursive 9->8 (threadid: 1)\n"
     ]
    }
   ],
   "source": [
    "@threads for i = 1:10\n",
    "    f!(d0, p[i])\n",
    "end"
   ]
  },
  {
   "cell_type": "code",
   "execution_count": 18,
   "metadata": {
    "ExecuteTime": {
     "end_time": "2020-11-14T08:37:10.589000+09:00",
     "start_time": "2020-11-13T23:37:08.158Z"
    }
   },
   "outputs": [
    {
     "data": {
      "text/plain": [
       "Dict{Int64,Tuple{Int64,Int64}} with 10 entries:\n",
       "  7  => (7, 1)\n",
       "  4  => (4, 2)\n",
       "  9  => (9, 1)\n",
       "  10 => (10, 2)\n",
       "  2  => (2, 3)\n",
       "  3  => (3, 3)\n",
       "  5  => (5, 2)\n",
       "  8  => (8, 2)\n",
       "  6  => (6, 1)\n",
       "  1  => (1, 1)"
      ]
     },
     "execution_count": 18,
     "metadata": {},
     "output_type": "execute_result"
    }
   ],
   "source": [
    "d0"
   ]
  },
  {
   "cell_type": "markdown",
   "metadata": {},
   "source": [
    "#### Thread-Safe"
   ]
  },
  {
   "cell_type": "code",
   "execution_count": 19,
   "metadata": {
    "ExecuteTime": {
     "end_time": "2020-11-14T08:37:10.991000+09:00",
     "start_time": "2020-11-13T23:37:08.160Z"
    }
   },
   "outputs": [
    {
     "data": {
      "text/plain": [
       "ThreadSafeDict{Int64,Tuple{Int64,Int64},ReentrantLock}()"
      ]
     },
     "execution_count": 19,
     "metadata": {},
     "output_type": "execute_result"
    }
   ],
   "source": [
    "d1 = ThreadSafeDict{Int,Tuple{Int,Int}}()"
   ]
  },
  {
   "cell_type": "code",
   "execution_count": 20,
   "metadata": {
    "ExecuteTime": {
     "end_time": "2020-11-14T08:37:11.001000+09:00",
     "start_time": "2020-11-13T23:37:08.161Z"
    }
   },
   "outputs": [
    {
     "data": {
      "text/plain": [
       "(1, 1)"
      ]
     },
     "execution_count": 20,
     "metadata": {},
     "output_type": "execute_result"
    }
   ],
   "source": [
    "d1[1] = (1, 1)"
   ]
  },
  {
   "cell_type": "code",
   "execution_count": 21,
   "metadata": {
    "ExecuteTime": {
     "end_time": "2020-11-14T08:37:11.052000+09:00",
     "start_time": "2020-11-13T23:37:08.164Z"
    }
   },
   "outputs": [
    {
     "name": "stdout",
     "output_type": "stream",
     "text": [
      "recursive 8->7 (threadid: 1)\n",
      "recursive 7->6 (threadid: 1)\n",
      "recursive 6->5 (threadid: 1)\n",
      "recursive 5->4 (threadid: 1)\n",
      "recursive 4->3 (threadid: 1)\n",
      "recursive 3->2 (threadid: 1)\n",
      "recursive 2->1 (threadid: 1)\n",
      "recursive 9->8 (threadid: 1)\n",
      "recursive 10->9 (threadid: 2)\n"
     ]
    }
   ],
   "source": [
    "@threads for i = 1:10\n",
    "    f!(d1, p[i])\n",
    "end"
   ]
  },
  {
   "cell_type": "code",
   "execution_count": 22,
   "metadata": {
    "ExecuteTime": {
     "end_time": "2020-11-14T08:37:11.053000+09:00",
     "start_time": "2020-11-13T23:37:08.166Z"
    }
   },
   "outputs": [
    {
     "data": {
      "text/plain": [
       "ThreadSafeDict{Int64,Tuple{Int64,Int64},ReentrantLock} with 10 entries:\n",
       "  7  => (7, 1)\n",
       "  4  => (4, 1)\n",
       "  9  => (9, 1)\n",
       "  10 => (10, 2)\n",
       "  2  => (2, 1)\n",
       "  3  => (3, 1)\n",
       "  5  => (5, 1)\n",
       "  8  => (8, 1)\n",
       "  6  => (6, 1)\n",
       "  1  => (1, 1)"
      ]
     },
     "execution_count": 22,
     "metadata": {},
     "output_type": "execute_result"
    }
   ],
   "source": [
    "d1"
   ]
  },
  {
   "cell_type": "markdown",
   "metadata": {},
   "source": [
    "#### NG (Dead-Lock occurs)"
   ]
  },
  {
   "cell_type": "code",
   "execution_count": null,
   "metadata": {
    "ExecuteTime": {
     "end_time": "2020-11-13T19:45:30.941000+09:00",
     "start_time": "2020-11-13T10:45:33.185Z"
    }
   },
   "outputs": [],
   "source": [
    "d2 = ThreadSafeDict{Int,Tuple{Int,Int},SpinLock}()"
   ]
  },
  {
   "cell_type": "code",
   "execution_count": null,
   "metadata": {
    "ExecuteTime": {
     "end_time": "2020-11-13T19:45:34.343000+09:00",
     "start_time": "2020-11-13T10:45:37.003Z"
    }
   },
   "outputs": [],
   "source": [
    "d2[1] = (1, 1)"
   ]
  },
  {
   "cell_type": "code",
   "execution_count": null,
   "metadata": {
    "ExecuteTime": {
     "end_time": "2020-11-13T19:45:45.004000+09:00",
     "start_time": "2020-11-13T10:45:42.780Z"
    }
   },
   "outputs": [],
   "source": [
    "@threads for i = 1:10\n",
    "    f!(d2, p[i])\n",
    "end"
   ]
  },
  {
   "cell_type": "code",
   "execution_count": null,
   "metadata": {},
   "outputs": [],
   "source": []
  }
 ],
 "metadata": {
  "kernelspec": {
   "display_name": "Julia (4 threads) 1.5.3",
   "language": "julia",
   "name": "julia-(4-threads)-1.5"
  },
  "language_info": {
   "file_extension": ".jl",
   "mimetype": "application/julia",
   "name": "julia",
   "version": "1.5.3"
  }
 },
 "nbformat": 4,
 "nbformat_minor": 2
}
